{
  "nbformat": 4,
  "nbformat_minor": 0,
  "metadata": {
    "colab": {
      "name": "Untitled0.ipynb",
      "provenance": [],
      "collapsed_sections": []
    },
    "kernelspec": {
      "name": "python3",
      "display_name": "Python 3"
    },
    "language_info": {
      "name": "python"
    }
  },
  "cells": [
    {
      "cell_type": "markdown",
      "source": [
        ""
      ],
      "metadata": {
        "id": "NPHhmWO6mCFA"
      }
    },
    {
      "cell_type": "code",
      "source": [
        "pip install qrcode"
      ],
      "metadata": {
        "colab": {
          "base_uri": "https://localhost:8080/"
        },
        "id": "q4lrUIP2mCx_",
        "outputId": "4352160e-5564-4c22-d570-22f1d03092c2"
      },
      "execution_count": 25,
      "outputs": [
        {
          "output_type": "stream",
          "name": "stdout",
          "text": [
            "Looking in indexes: https://pypi.org/simple, https://us-python.pkg.dev/colab-wheels/public/simple/\n",
            "Requirement already satisfied: qrcode in /usr/local/lib/python3.7/dist-packages (7.3.1)\n"
          ]
        }
      ]
    },
    {
      "cell_type": "code",
      "source": [
        "Item_name = input(\"Item name:\")\n",
        "Item_Condition = input(\"Item Condition:\")\n",
        "Item_Price = input(\"Item Price:\")\n",
        "Purchase_Date = input(\"Purchase Date:\")\n"
      ],
      "metadata": {
        "id": "hC-Hi5HksRXw",
        "colab": {
          "base_uri": "https://localhost:8080/"
        },
        "outputId": "97a9cf02-d6ee-4933-f6a6-d5fbc1720409"
      },
      "execution_count": 34,
      "outputs": [
        {
          "name": "stdout",
          "output_type": "stream",
          "text": [
            "Item name:meja\n",
            "Item Condition:good\n",
            "Item Price:2000\n",
            "Purchase Date:12 june 2020\n"
          ]
        }
      ]
    },
    {
      "cell_type": "markdown",
      "source": [
        ""
      ],
      "metadata": {
        "id": "GVLN54Q5qB0U"
      }
    },
    {
      "cell_type": "code",
      "source": [
        "file = Item_name + \"/\" + Item_Condition\n",
        "print(file)\n"
      ],
      "metadata": {
        "id": "VbFM7p6cre4P",
        "colab": {
          "base_uri": "https://localhost:8080/"
        },
        "outputId": "da3b0d49-8c65-4de7-fcd0-472c0f502143"
      },
      "execution_count": 53,
      "outputs": [
        {
          "output_type": "stream",
          "name": "stdout",
          "text": [
            "meja/good\n"
          ]
        }
      ]
    },
    {
      "cell_type": "code",
      "source": [
        "import qrcode\n",
        "img = qrcode.make(file)\n",
        "img.save(\"file.jpg\")"
      ],
      "metadata": {
        "id": "5ZmOLxkVwO0H",
        "colab": {
          "base_uri": "https://localhost:8080/",
          "height": 130
        },
        "outputId": "fc6942d4-1bea-471b-85a2-49e980bec05a"
      },
      "execution_count": 57,
      "outputs": [
        {
          "output_type": "error",
          "ename": "SyntaxError",
          "evalue": "ignored",
          "traceback": [
            "\u001b[0;36m  File \u001b[0;32m\"<ipython-input-57-a7f04133bb0b>\"\u001b[0;36m, line \u001b[0;32m3\u001b[0m\n\u001b[0;31m    img.save(file\".jpg\")\u001b[0m\n\u001b[0m                      ^\u001b[0m\n\u001b[0;31mSyntaxError\u001b[0m\u001b[0;31m:\u001b[0m invalid syntax\n"
          ]
        }
      ]
    },
    {
      "cell_type": "markdown",
      "source": [
        ""
      ],
      "metadata": {
        "id": "q3aMGZFmmBAH"
      }
    }
  ]
}